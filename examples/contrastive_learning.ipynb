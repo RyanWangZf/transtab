{
 "cells": [
  {
   "cell_type": "code",
   "execution_count": 1,
   "id": "0c0001bb",
   "metadata": {},
   "outputs": [],
   "source": [
    "import transtab\n",
    "\n",
    "# set random seed\n",
    "transtab.random_seed(42)"
   ]
  },
  {
   "cell_type": "code",
   "execution_count": 2,
   "id": "865b42a8",
   "metadata": {},
   "outputs": [
    {
     "name": "stdout",
     "output_type": "stream",
     "text": [
      "########################################\n",
      "openml data index: 31\n",
      "load data from credit-g\n",
      "# data: 1000, # feat: 20, # cate: 11,  # bin: 2, # numerical: 7, pos rate: 0.70\n",
      "########################################\n",
      "openml data index: 29\n",
      "load data from credit-approval\n",
      "# data: 690, # feat: 15, # cate: 9,  # bin: 0, # numerical: 6, pos rate: 0.56\n"
     ]
    }
   ],
   "source": [
    "# load multiple datasets by passing a list of data names\n",
    "allset, trainset, valset, testset, cat_cols, num_cols, bin_cols \\\n",
    "    = transtab.load_data(['credit-g','credit-approval'])\n",
    "\n",
    "# build contrastive learner, set supervised=True for supervised VPCL\n",
    "model, collate_fn = transtab.build_contrastive_learner(\n",
    "    cat_cols, num_cols, bin_cols, \n",
    "    supervised=True, # if take supervised CL\n",
    "    num_partition=4, # num of column partitions for pos/neg sampling\n",
    "    overlap_ratio=0.5, # specify the overlap ratio of column partitions during the CL\n",
    ")"
   ]
  },
  {
   "cell_type": "code",
   "execution_count": 3,
   "id": "78d0bc6c",
   "metadata": {},
   "outputs": [
    {
     "data": {
      "application/vnd.jupyter.widget-view+json": {
       "model_id": "c0c59c09875a4134896a087827880bd2",
       "version_major": 2,
       "version_minor": 0
      },
      "text/plain": [
       "Epoch:   0%|          | 0/50 [00:00<?, ?it/s]"
      ]
     },
     "metadata": {},
     "output_type": "display_data"
    },
    {
     "name": "stdout",
     "output_type": "stream",
     "text": [
      "epoch: 0, test val_loss: 5.799497\n",
      "epoch: 0, train loss: 105.8933, lr: 0.000100, spent: 1.0 secs\n",
      "epoch: 1, test val_loss: 5.787415\n",
      "epoch: 1, train loss: 104.5827, lr: 0.000100, spent: 1.9 secs\n",
      "epoch: 2, test val_loss: 5.783943\n",
      "epoch: 2, train loss: 104.5336, lr: 0.000100, spent: 2.8 secs\n",
      "epoch: 3, test val_loss: 5.780502\n",
      "epoch: 3, train loss: 104.4926, lr: 0.000100, spent: 3.7 secs\n",
      "epoch: 4, test val_loss: 5.777996\n",
      "epoch: 4, train loss: 104.4469, lr: 0.000100, spent: 4.7 secs\n",
      "epoch: 5, test val_loss: 5.775274\n",
      "epoch: 5, train loss: 104.4308, lr: 0.000100, spent: 5.6 secs\n",
      "epoch: 6, test val_loss: 5.773897\n",
      "epoch: 6, train loss: 104.3934, lr: 0.000100, spent: 6.5 secs\n",
      "epoch: 7, test val_loss: 5.771337\n",
      "epoch: 7, train loss: 104.3471, lr: 0.000100, spent: 7.4 secs\n",
      "epoch: 8, test val_loss: 5.769358\n",
      "epoch: 8, train loss: 104.3560, lr: 0.000100, spent: 8.3 secs\n",
      "epoch: 9, test val_loss: 5.767703\n",
      "epoch: 9, train loss: 104.2987, lr: 0.000100, spent: 9.2 secs\n",
      "epoch: 10, test val_loss: 5.766528\n",
      "epoch: 10, train loss: 104.3233, lr: 0.000100, spent: 10.2 secs\n",
      "epoch: 11, test val_loss: 5.762815\n",
      "epoch: 11, train loss: 104.2481, lr: 0.000100, spent: 11.1 secs\n",
      "epoch: 12, test val_loss: 5.763136\n",
      "EarlyStopping counter: 1 out of 5\n",
      "epoch: 12, train loss: 104.2676, lr: 0.000100, spent: 12.0 secs\n",
      "epoch: 13, test val_loss: 5.761219\n",
      "epoch: 13, train loss: 104.2470, lr: 0.000100, spent: 13.0 secs\n",
      "epoch: 14, test val_loss: 5.758367\n",
      "epoch: 14, train loss: 104.2144, lr: 0.000100, spent: 13.9 secs\n",
      "epoch: 15, test val_loss: 5.758024\n",
      "epoch: 15, train loss: 104.1772, lr: 0.000100, spent: 14.9 secs\n",
      "epoch: 16, test val_loss: 5.758976\n",
      "EarlyStopping counter: 1 out of 5\n",
      "epoch: 16, train loss: 104.2232, lr: 0.000100, spent: 15.9 secs\n",
      "epoch: 17, test val_loss: 5.763968\n",
      "EarlyStopping counter: 2 out of 5\n",
      "epoch: 17, train loss: 104.2959, lr: 0.000100, spent: 16.8 secs\n",
      "epoch: 18, test val_loss: 5.751794\n",
      "epoch: 18, train loss: 104.1031, lr: 0.000100, spent: 17.8 secs\n",
      "epoch: 19, test val_loss: 5.751193\n",
      "epoch: 19, train loss: 104.1123, lr: 0.000100, spent: 18.7 secs\n",
      "epoch: 20, test val_loss: 5.752004\n",
      "EarlyStopping counter: 1 out of 5\n",
      "epoch: 20, train loss: 104.1052, lr: 0.000100, spent: 19.6 secs\n",
      "epoch: 21, test val_loss: 5.751863\n",
      "EarlyStopping counter: 2 out of 5\n",
      "epoch: 21, train loss: 104.1244, lr: 0.000100, spent: 20.5 secs\n",
      "epoch: 22, test val_loss: 5.753274\n",
      "EarlyStopping counter: 3 out of 5\n",
      "epoch: 22, train loss: 104.0999, lr: 0.000100, spent: 21.4 secs\n",
      "epoch: 23, test val_loss: 5.749267\n",
      "epoch: 23, train loss: 104.1320, lr: 0.000100, spent: 22.3 secs\n",
      "epoch: 24, test val_loss: 5.749830\n",
      "EarlyStopping counter: 1 out of 5\n",
      "epoch: 24, train loss: 104.0657, lr: 0.000100, spent: 23.3 secs\n",
      "epoch: 25, test val_loss: 5.753408\n",
      "EarlyStopping counter: 2 out of 5\n",
      "epoch: 25, train loss: 104.1343, lr: 0.000100, spent: 24.2 secs\n",
      "epoch: 26, test val_loss: 5.751002\n",
      "EarlyStopping counter: 3 out of 5\n",
      "epoch: 26, train loss: 104.0832, lr: 0.000100, spent: 25.2 secs\n",
      "epoch: 27, test val_loss: 5.748993\n",
      "epoch: 27, train loss: 104.0645, lr: 0.000100, spent: 26.1 secs\n",
      "epoch: 28, test val_loss: 5.749784\n",
      "EarlyStopping counter: 1 out of 5\n",
      "epoch: 28, train loss: 104.0892, lr: 0.000100, spent: 27.1 secs\n",
      "epoch: 29, test val_loss: 5.749989\n",
      "EarlyStopping counter: 2 out of 5\n",
      "epoch: 29, train loss: 104.0778, lr: 0.000100, spent: 28.0 secs\n",
      "epoch: 30, test val_loss: 5.751025\n",
      "EarlyStopping counter: 3 out of 5\n",
      "epoch: 30, train loss: 104.0774, lr: 0.000100, spent: 28.9 secs\n",
      "epoch: 31, test val_loss: 5.753637\n",
      "EarlyStopping counter: 4 out of 5\n",
      "epoch: 31, train loss: 104.1312, lr: 0.000100, spent: 29.8 secs\n"
     ]
    },
    {
     "name": "stderr",
     "output_type": "stream",
     "text": [
      "2022-05-11 12:02:42.405 | INFO     | transtab.trainer:train:131 - load best at last from ./checkpoint\n",
      "2022-05-11 12:02:42.412 | INFO     | transtab.trainer:save_model:238 - saving model checkpoint to ./checkpoint\n",
      "2022-05-11 12:02:42.509 | INFO     | transtab.trainer:train:136 - training complete, cost 30.9 secs.\n"
     ]
    },
    {
     "name": "stdout",
     "output_type": "stream",
     "text": [
      "epoch: 32, test val_loss: 5.749441\n",
      "EarlyStopping counter: 5 out of 5\n",
      "early stopped\n"
     ]
    }
   ],
   "source": [
    "# start contrastive pretraining training\n",
    "training_arguments = {\n",
    "    'num_epoch':50,\n",
    "    'batch_size':64,\n",
    "    'lr':1e-4,\n",
    "    'eval_metric':'val_loss',\n",
    "    'eval_less_is_better':True,\n",
    "    'output_dir':'./checkpoint'\n",
    "    }\n",
    "\n",
    "transtab.train(model, trainset, valset, collate_fn=collate_fn, **training_arguments)"
   ]
  },
  {
   "cell_type": "code",
   "execution_count": 4,
   "id": "85e9ad3c",
   "metadata": {},
   "outputs": [
    {
     "name": "stdout",
     "output_type": "stream",
     "text": [
      "########################################\n"
     ]
    },
    {
     "name": "stderr",
     "output_type": "stream",
     "text": [
      "2022-05-11 12:02:45.654 | WARNING  | transtab.modeling_transtab:_check_column_overlap:249 - No cat/num/bin cols specified, will take ALL columns as categorical! Ignore this warning if you specify the `checkpoint` to load the model.\n",
      "2022-05-11 12:02:45.700 | INFO     | transtab.modeling_transtab:load:622 - missing keys: ['clf.fc.weight', 'clf.fc.bias', 'clf.norm.weight', 'clf.norm.bias']\n",
      "2022-05-11 12:02:45.700 | INFO     | transtab.modeling_transtab:load:623 - unexpected keys: ['projection_head.dense.weight']\n",
      "2022-05-11 12:02:45.701 | INFO     | transtab.modeling_transtab:load:624 - load model from ./checkpoint\n",
      "2022-05-11 12:02:45.713 | INFO     | transtab.modeling_transtab:load:217 - load feature extractor from ./checkpoint/extractor/extractor.json\n",
      "2022-05-11 12:02:45.726 | WARNING  | transtab.modeling_transtab:_check_column_overlap:249 - No cat/num/bin cols specified, will take ALL columns as categorical! Ignore this warning if you specify the `checkpoint` to load the model.\n"
     ]
    },
    {
     "name": "stdout",
     "output_type": "stream",
     "text": [
      "openml data index: 29\n",
      "load data from credit-approval\n",
      "# data: 690, # feat: 15, # cate: 9,  # bin: 0, # numerical: 6, pos rate: 0.56\n"
     ]
    },
    {
     "data": {
      "application/vnd.jupyter.widget-view+json": {
       "model_id": "33ea13eae3e7440d8db28618c7d646c9",
       "version_major": 2,
       "version_minor": 0
      },
      "text/plain": [
       "Epoch:   0%|          | 0/50 [00:00<?, ?it/s]"
      ]
     },
     "metadata": {},
     "output_type": "display_data"
    },
    {
     "name": "stdout",
     "output_type": "stream",
     "text": [
      "epoch: 0, test val_loss: 0.677445\n",
      "epoch: 0, train loss: 5.4725, lr: 0.000100, spent: 0.2 secs\n",
      "epoch: 1, test val_loss: 0.670075\n",
      "epoch: 1, train loss: 5.2918, lr: 0.000100, spent: 0.5 secs\n",
      "epoch: 2, test val_loss: 0.607029\n",
      "epoch: 2, train loss: 4.9795, lr: 0.000100, spent: 0.7 secs\n",
      "epoch: 3, test val_loss: 0.585563\n",
      "epoch: 3, train loss: 4.6663, lr: 0.000100, spent: 1.0 secs\n",
      "epoch: 4, test val_loss: 0.515265\n",
      "epoch: 4, train loss: 4.3954, lr: 0.000100, spent: 1.2 secs\n",
      "epoch: 5, test val_loss: 0.490379\n",
      "epoch: 5, train loss: 4.1109, lr: 0.000100, spent: 1.4 secs\n",
      "epoch: 6, test val_loss: 0.443343\n",
      "epoch: 6, train loss: 3.8025, lr: 0.000100, spent: 1.6 secs\n",
      "epoch: 7, test val_loss: 0.458647\n",
      "EarlyStopping counter: 1 out of 5\n",
      "epoch: 7, train loss: 3.5434, lr: 0.000100, spent: 1.9 secs\n",
      "epoch: 8, test val_loss: 0.416663\n",
      "epoch: 8, train loss: 3.4231, lr: 0.000100, spent: 2.1 secs\n",
      "epoch: 9, test val_loss: 0.408597\n",
      "epoch: 9, train loss: 3.2808, lr: 0.000100, spent: 2.3 secs\n",
      "epoch: 10, test val_loss: 0.440296\n",
      "EarlyStopping counter: 1 out of 5\n",
      "epoch: 10, train loss: 3.2033, lr: 0.000100, spent: 2.5 secs\n",
      "epoch: 11, test val_loss: 0.433011\n",
      "EarlyStopping counter: 2 out of 5\n",
      "epoch: 11, train loss: 3.1362, lr: 0.000100, spent: 2.8 secs\n",
      "epoch: 12, test val_loss: 0.401015\n",
      "epoch: 12, train loss: 3.0507, lr: 0.000100, spent: 3.1 secs\n",
      "epoch: 13, test val_loss: 0.437056\n",
      "EarlyStopping counter: 1 out of 5\n",
      "epoch: 13, train loss: 2.9854, lr: 0.000100, spent: 3.3 secs\n",
      "epoch: 14, test val_loss: 0.398411\n",
      "epoch: 14, train loss: 2.9154, lr: 0.000100, spent: 3.5 secs\n",
      "epoch: 15, test val_loss: 0.407546\n",
      "EarlyStopping counter: 1 out of 5\n",
      "epoch: 15, train loss: 2.7740, lr: 0.000100, spent: 3.7 secs\n",
      "epoch: 16, test val_loss: 0.388809\n",
      "epoch: 16, train loss: 2.7887, lr: 0.000100, spent: 4.0 secs\n",
      "epoch: 17, test val_loss: 0.401779\n",
      "EarlyStopping counter: 1 out of 5\n",
      "epoch: 17, train loss: 2.8079, lr: 0.000100, spent: 4.2 secs\n",
      "epoch: 18, test val_loss: 0.422818\n",
      "EarlyStopping counter: 2 out of 5\n",
      "epoch: 18, train loss: 2.8821, lr: 0.000100, spent: 4.4 secs\n",
      "epoch: 19, test val_loss: 0.441198\n",
      "EarlyStopping counter: 3 out of 5\n",
      "epoch: 19, train loss: 2.7267, lr: 0.000100, spent: 4.6 secs\n",
      "epoch: 20, test val_loss: 0.383884\n",
      "epoch: 20, train loss: 2.7054, lr: 0.000100, spent: 4.9 secs\n",
      "epoch: 21, test val_loss: 0.430312\n",
      "EarlyStopping counter: 1 out of 5\n",
      "epoch: 21, train loss: 2.4986, lr: 0.000100, spent: 5.1 secs\n",
      "epoch: 22, test val_loss: 0.388540\n",
      "EarlyStopping counter: 2 out of 5\n",
      "epoch: 22, train loss: 2.4761, lr: 0.000100, spent: 5.3 secs\n",
      "epoch: 23, test val_loss: 0.408191\n",
      "EarlyStopping counter: 3 out of 5\n",
      "epoch: 23, train loss: 2.3443, lr: 0.000100, spent: 5.5 secs\n",
      "epoch: 24, test val_loss: 0.386275\n",
      "EarlyStopping counter: 4 out of 5\n",
      "epoch: 24, train loss: 2.3313, lr: 0.000100, spent: 5.7 secs\n"
     ]
    },
    {
     "name": "stderr",
     "output_type": "stream",
     "text": [
      "2022-05-11 12:02:51.639 | INFO     | transtab.trainer:train:131 - load best at last from ./checkpoint\n",
      "2022-05-11 12:02:51.645 | INFO     | transtab.trainer:save_model:238 - saving model checkpoint to ./checkpoint\n",
      "2022-05-11 12:02:51.743 | INFO     | transtab.trainer:train:136 - training complete, cost 6.0 secs.\n"
     ]
    },
    {
     "name": "stdout",
     "output_type": "stream",
     "text": [
      "epoch: 25, test val_loss: 0.480252\n",
      "EarlyStopping counter: 5 out of 5\n",
      "early stopped\n"
     ]
    }
   ],
   "source": [
    "# load the pretrained model and finetune on a target dataset\n",
    "allset, trainset, valset, testset, cat_cols, num_cols, bin_cols \\\n",
    "     = transtab.load_data('credit-approval')\n",
    "\n",
    "# build transtab classifier model, and load from the pretrained dir\n",
    "model = transtab.build_classifier(checkpoint='./checkpoint')\n",
    "\n",
    "# update model's categorical/numerical/binary column dict\n",
    "model.update({'cat':cat_cols,'num':num_cols,'bin':bin_cols})\n",
    "\n",
    "# start finetuning\n",
    "training_arguments = {\n",
    "    'num_epoch':50,\n",
    "    'eval_metric':'val_loss',\n",
    "    'eval_less_is_better':True,\n",
    "    'output_dir':'./checkpoint'\n",
    "    }\n",
    "transtab.train(model, trainset, valset, **training_arguments)"
   ]
  },
  {
   "cell_type": "code",
   "execution_count": 5,
   "id": "ba5e5238",
   "metadata": {},
   "outputs": [
    {
     "name": "stdout",
     "output_type": "stream",
     "text": [
      "auc 0.95 mean/interval 0.8398(0.06)\n"
     ]
    },
    {
     "data": {
      "text/plain": [
       "[0.8398471246601826]"
      ]
     },
     "execution_count": 5,
     "metadata": {},
     "output_type": "execute_result"
    }
   ],
   "source": [
    "# evaluation\n",
    "x_test, y_test = testset\n",
    "ypred = transtab.predict(model, x_test)\n",
    "transtab.evaluate(ypred, y_test, metric='auc')"
   ]
  },
  {
   "cell_type": "code",
   "execution_count": null,
   "id": "da5d6d70",
   "metadata": {},
   "outputs": [],
   "source": []
  }
 ],
 "metadata": {
  "kernelspec": {
   "display_name": "Python 3 (ipykernel)",
   "language": "python",
   "name": "python3"
  },
  "language_info": {
   "codemirror_mode": {
    "name": "ipython",
    "version": 3
   },
   "file_extension": ".py",
   "mimetype": "text/x-python",
   "name": "python",
   "nbconvert_exporter": "python",
   "pygments_lexer": "ipython3",
   "version": "3.8.12"
  }
 },
 "nbformat": 4,
 "nbformat_minor": 5
}
