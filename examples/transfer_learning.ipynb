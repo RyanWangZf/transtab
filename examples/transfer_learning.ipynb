{
 "cells": [
  {
   "cell_type": "code",
   "execution_count": 1,
   "id": "134f979d",
   "metadata": {},
   "outputs": [],
   "source": [
    "import os\n",
    "os.chdir('../')\n",
    "\n",
    "import transtab\n",
    "\n",
    "# set random seed\n",
    "transtab.random_seed(42)"
   ]
  },
  {
   "cell_type": "code",
   "execution_count": 2,
   "id": "42c60011",
   "metadata": {},
   "outputs": [
    {
     "name": "stdout",
     "output_type": "stream",
     "text": [
      "########################################\n",
      "openml data index: 31\n",
      "load data from credit-g\n",
      "# data: 1000, # feat: 20, # cate: 11,  # bin: 2, # numerical: 7, pos rate: 0.70\n"
     ]
    },
    {
     "data": {
      "application/vnd.jupyter.widget-view+json": {
       "model_id": "160a60f77cc34330a153870c695ebc6d",
       "version_major": 2,
       "version_minor": 0
      },
      "text/plain": [
       "Epoch:   0%|          | 0/50 [00:00<?, ?it/s]"
      ]
     },
     "metadata": {},
     "output_type": "display_data"
    },
    {
     "name": "stdout",
     "output_type": "stream",
     "text": [
      "epoch: 0, test val_loss: 0.567170\n",
      "epoch: 0, train loss: 7.1551, lr: 0.000100, spent: 0.6 secs\n",
      "epoch: 1, test val_loss: 0.572159\n",
      "EarlyStopping counter: 1 out of 5\n",
      "epoch: 1, train loss: 6.7556, lr: 0.000100, spent: 0.9 secs\n",
      "epoch: 2, test val_loss: 0.549248\n",
      "epoch: 2, train loss: 6.6316, lr: 0.000100, spent: 1.3 secs\n",
      "epoch: 3, test val_loss: 0.544252\n",
      "epoch: 3, train loss: 6.5727, lr: 0.000100, spent: 1.7 secs\n",
      "epoch: 4, test val_loss: 0.527965\n",
      "epoch: 4, train loss: 6.3595, lr: 0.000100, spent: 2.1 secs\n",
      "epoch: 5, test val_loss: 0.519540\n",
      "epoch: 5, train loss: 6.2331, lr: 0.000100, spent: 2.6 secs\n",
      "epoch: 6, test val_loss: 0.507608\n",
      "epoch: 6, train loss: 6.0382, lr: 0.000100, spent: 2.9 secs\n",
      "epoch: 7, test val_loss: 0.492635\n",
      "epoch: 7, train loss: 5.9225, lr: 0.000100, spent: 3.3 secs\n",
      "epoch: 8, test val_loss: 0.533339\n",
      "EarlyStopping counter: 1 out of 5\n",
      "epoch: 8, train loss: 5.7276, lr: 0.000100, spent: 3.7 secs\n",
      "epoch: 9, test val_loss: 0.485512\n",
      "epoch: 9, train loss: 5.6235, lr: 0.000100, spent: 4.0 secs\n",
      "epoch: 10, test val_loss: 0.499231\n",
      "EarlyStopping counter: 1 out of 5\n",
      "epoch: 10, train loss: 5.5033, lr: 0.000100, spent: 4.5 secs\n",
      "epoch: 11, test val_loss: 0.537232\n",
      "EarlyStopping counter: 2 out of 5\n",
      "epoch: 11, train loss: 5.5092, lr: 0.000100, spent: 4.8 secs\n",
      "epoch: 12, test val_loss: 0.488317\n",
      "EarlyStopping counter: 3 out of 5\n",
      "epoch: 12, train loss: 5.4925, lr: 0.000100, spent: 5.2 secs\n",
      "epoch: 13, test val_loss: 0.454903\n",
      "epoch: 13, train loss: 5.2970, lr: 0.000100, spent: 5.5 secs\n",
      "epoch: 14, test val_loss: 0.443997\n",
      "epoch: 14, train loss: 5.2400, lr: 0.000100, spent: 5.9 secs\n",
      "epoch: 15, test val_loss: 0.457660\n",
      "EarlyStopping counter: 1 out of 5\n",
      "epoch: 15, train loss: 5.1801, lr: 0.000100, spent: 6.3 secs\n",
      "epoch: 16, test val_loss: 0.494147\n",
      "EarlyStopping counter: 2 out of 5\n",
      "epoch: 16, train loss: 5.0933, lr: 0.000100, spent: 6.7 secs\n",
      "epoch: 17, test val_loss: 0.552830\n",
      "EarlyStopping counter: 3 out of 5\n",
      "epoch: 17, train loss: 5.0856, lr: 0.000100, spent: 7.0 secs\n",
      "epoch: 18, test val_loss: 0.483281\n",
      "EarlyStopping counter: 4 out of 5\n",
      "epoch: 18, train loss: 5.1601, lr: 0.000100, spent: 7.4 secs\n"
     ]
    },
    {
     "name": "stderr",
     "output_type": "stream",
     "text": [
      "2022-08-31 10:58:03.838 | INFO     | transtab.trainer:train:132 - load best at last from ./checkpoint\n",
      "2022-08-31 10:58:03.854 | INFO     | transtab.trainer:save_model:239 - saving model checkpoint to ./checkpoint\n",
      "2022-08-31 10:58:03.984 | INFO     | transtab.trainer:train:137 - training complete, cost 7.9 secs.\n"
     ]
    },
    {
     "name": "stdout",
     "output_type": "stream",
     "text": [
      "epoch: 19, test val_loss: 0.446817\n",
      "EarlyStopping counter: 5 out of 5\n",
      "early stopped\n"
     ]
    }
   ],
   "source": [
    "# load a dataset and start vanilla supervised training\n",
    "allset, trainset, valset, testset, cat_cols, num_cols, bin_cols \\\n",
    "    = transtab.load_data('credit-g')\n",
    "\n",
    "# build transtab classifier model\n",
    "model = transtab.build_classifier(cat_cols, num_cols, bin_cols)\n",
    "\n",
    "# start training\n",
    "training_arguments = {\n",
    "    'num_epoch':50,\n",
    "    'eval_metric':'val_loss',\n",
    "    'eval_less_is_better':True,\n",
    "    'output_dir':'./checkpoint'\n",
    "    }\n",
    "transtab.train(model, trainset, valset, **training_arguments)"
   ]
  },
  {
   "cell_type": "code",
   "execution_count": 3,
   "id": "d6bdc971",
   "metadata": {},
   "outputs": [
    {
     "name": "stdout",
     "output_type": "stream",
     "text": [
      "########################################\n"
     ]
    },
    {
     "name": "stderr",
     "output_type": "stream",
     "text": [
      "2022-08-31 10:58:07.123 | INFO     | transtab.modeling_transtab:load:782 - missing keys: []\n",
      "2022-08-31 10:58:07.124 | INFO     | transtab.modeling_transtab:load:783 - unexpected keys: []\n",
      "2022-08-31 10:58:07.124 | INFO     | transtab.modeling_transtab:load:784 - load model from ./checkpoint\n",
      "2022-08-31 10:58:07.140 | INFO     | transtab.modeling_transtab:load:222 - load feature extractor from ./checkpoint/extractor/extractor.json\n",
      "2022-08-31 10:58:07.142 | INFO     | transtab.modeling_transtab:update:838 - Build a new classifier with num 2 classes outputs, need further finetune to work.\n"
     ]
    },
    {
     "name": "stdout",
     "output_type": "stream",
     "text": [
      "openml data index: 29\n",
      "load data from credit-approval\n",
      "# data: 690, # feat: 15, # cate: 9,  # bin: 0, # numerical: 6, pos rate: 0.56\n"
     ]
    }
   ],
   "source": [
    "# now let's load another data and try to leverage the pretrained model for finetuning\n",
    "allset, trainset, valset, testset, cat_cols, num_cols, bin_cols \\\n",
    "     = transtab.load_data('credit-approval')\n",
    "\n",
    "# load the pretrained model\n",
    "model.load('./checkpoint')\n",
    "\n",
    "# update model's categorical/numerical/binary column dict\n",
    "# need to specify the number of classes if the new dataset has different # of classes from the \n",
    "# pretrained one.\n",
    "model.update({'cat':cat_cols,'num':num_cols,'bin':bin_cols, 'num_class':2})"
   ]
  },
  {
   "cell_type": "code",
   "execution_count": 4,
   "id": "f399d02e",
   "metadata": {},
   "outputs": [
    {
     "data": {
      "application/vnd.jupyter.widget-view+json": {
       "model_id": "2fb7986cef9a4b66912072913e8b1b62",
       "version_major": 2,
       "version_minor": 0
      },
      "text/plain": [
       "Epoch:   0%|          | 0/50 [00:00<?, ?it/s]"
      ]
     },
     "metadata": {},
     "output_type": "display_data"
    },
    {
     "name": "stdout",
     "output_type": "stream",
     "text": [
      "epoch: 0, test val_loss: 0.663729\n",
      "epoch: 0, train loss: 5.5065, lr: 0.000100, spent: 0.3 secs\n",
      "epoch: 1, test val_loss: 0.643954\n",
      "epoch: 1, train loss: 5.1848, lr: 0.000100, spent: 0.5 secs\n",
      "epoch: 2, test val_loss: 0.607890\n",
      "epoch: 2, train loss: 4.8917, lr: 0.000100, spent: 0.8 secs\n",
      "epoch: 3, test val_loss: 0.561952\n",
      "epoch: 3, train loss: 4.6173, lr: 0.000100, spent: 1.0 secs\n",
      "epoch: 4, test val_loss: 0.504316\n",
      "epoch: 4, train loss: 4.2762, lr: 0.000100, spent: 1.3 secs\n",
      "epoch: 5, test val_loss: 0.475863\n",
      "epoch: 5, train loss: 3.9553, lr: 0.000100, spent: 1.6 secs\n",
      "epoch: 6, test val_loss: 0.441440\n",
      "epoch: 6, train loss: 3.6060, lr: 0.000100, spent: 1.9 secs\n",
      "epoch: 7, test val_loss: 0.437025\n",
      "epoch: 7, train loss: 3.5144, lr: 0.000100, spent: 2.1 secs\n",
      "epoch: 8, test val_loss: 0.454992\n",
      "EarlyStopping counter: 1 out of 5\n",
      "epoch: 8, train loss: 3.2920, lr: 0.000100, spent: 2.4 secs\n",
      "epoch: 9, test val_loss: 0.433641\n",
      "epoch: 9, train loss: 3.2477, lr: 0.000100, spent: 2.6 secs\n",
      "epoch: 10, test val_loss: 0.451641\n",
      "EarlyStopping counter: 1 out of 5\n",
      "epoch: 10, train loss: 3.0013, lr: 0.000100, spent: 2.8 secs\n",
      "epoch: 11, test val_loss: 0.433891\n",
      "EarlyStopping counter: 2 out of 5\n",
      "epoch: 11, train loss: 3.0221, lr: 0.000100, spent: 3.1 secs\n",
      "epoch: 12, test val_loss: 0.499918\n",
      "EarlyStopping counter: 3 out of 5\n",
      "epoch: 12, train loss: 2.8496, lr: 0.000100, spent: 3.3 secs\n",
      "epoch: 13, test val_loss: 0.440990\n",
      "EarlyStopping counter: 4 out of 5\n",
      "epoch: 13, train loss: 2.8732, lr: 0.000100, spent: 3.6 secs\n"
     ]
    },
    {
     "name": "stderr",
     "output_type": "stream",
     "text": [
      "2022-08-31 10:58:10.994 | INFO     | transtab.trainer:train:132 - load best at last from ./checkpoint\n",
      "2022-08-31 10:58:11.015 | INFO     | transtab.trainer:save_model:239 - saving model checkpoint to ./checkpoint\n",
      "2022-08-31 10:58:11.172 | INFO     | transtab.trainer:train:137 - training complete, cost 4.0 secs.\n"
     ]
    },
    {
     "name": "stdout",
     "output_type": "stream",
     "text": [
      "epoch: 14, test val_loss: 0.435779\n",
      "EarlyStopping counter: 5 out of 5\n",
      "early stopped\n"
     ]
    }
   ],
   "source": [
    "# start training\n",
    "training_arguments = {\n",
    "    'num_epoch':50,\n",
    "    'eval_metric':'val_loss',\n",
    "    'eval_less_is_better':True,\n",
    "    'output_dir':'./checkpoint'\n",
    "    }\n",
    "transtab.train(model, trainset, valset, **training_arguments)"
   ]
  },
  {
   "cell_type": "code",
   "execution_count": 5,
   "id": "3aa87021",
   "metadata": {},
   "outputs": [
    {
     "name": "stdout",
     "output_type": "stream",
     "text": [
      "auc 0.95 mean/interval 0.8334(0.06)\n"
     ]
    },
    {
     "data": {
      "text/plain": [
       "[0.8333660797853442]"
      ]
     },
     "execution_count": 5,
     "metadata": {},
     "output_type": "execute_result"
    }
   ],
   "source": [
    "# evaluation\n",
    "x_test, y_test = testset\n",
    "ypred = transtab.predict(model, x_test)\n",
    "transtab.evaluate(ypred, y_test, metric='auc')"
   ]
  }
 ],
 "metadata": {
  "kernelspec": {
   "display_name": "Python 3 (ipykernel)",
   "language": "python",
   "name": "python3"
  },
  "language_info": {
   "codemirror_mode": {
    "name": "ipython",
    "version": 3
   },
   "file_extension": ".py",
   "mimetype": "text/x-python",
   "name": "python",
   "nbconvert_exporter": "python",
   "pygments_lexer": "ipython3",
   "version": "3.8.13"
  }
 },
 "nbformat": 4,
 "nbformat_minor": 5
}
