{
 "cells": [
  {
   "cell_type": "code",
   "execution_count": 1,
   "id": "134f979d",
   "metadata": {},
   "outputs": [],
   "source": [
    "import transtab\n",
    "\n",
    "# set random seed\n",
    "transtab.random_seed(42)"
   ]
  },
  {
   "cell_type": "code",
   "execution_count": 2,
   "id": "42c60011",
   "metadata": {},
   "outputs": [
    {
     "name": "stdout",
     "output_type": "stream",
     "text": [
      "########################################\n",
      "openml data index: 31\n",
      "load data from credit-g\n",
      "# data: 1000, # feat: 20, # cate: 11,  # bin: 2, # numerical: 7, pos rate: 0.70\n"
     ]
    },
    {
     "data": {
      "application/vnd.jupyter.widget-view+json": {
       "model_id": "7dd0d2c1e51d4eb28e9e56541d5530a8",
       "version_major": 2,
       "version_minor": 0
      },
      "text/plain": [
       "Epoch:   0%|          | 0/50 [00:00<?, ?it/s]"
      ]
     },
     "metadata": {},
     "output_type": "display_data"
    },
    {
     "name": "stdout",
     "output_type": "stream",
     "text": [
      "epoch: 0, test val_loss: 0.566006\n",
      "epoch: 0, train loss: 7.0227, lr: 0.000100, spent: 0.4 secs\n",
      "epoch: 1, test val_loss: 0.558688\n",
      "epoch: 1, train loss: 6.7598, lr: 0.000100, spent: 0.7 secs\n",
      "epoch: 2, test val_loss: 0.548813\n",
      "epoch: 2, train loss: 6.6220, lr: 0.000100, spent: 1.0 secs\n",
      "epoch: 3, test val_loss: 0.539430\n",
      "epoch: 3, train loss: 6.6037, lr: 0.000100, spent: 1.4 secs\n",
      "epoch: 4, test val_loss: 0.526954\n",
      "epoch: 4, train loss: 6.3827, lr: 0.000100, spent: 1.7 secs\n",
      "epoch: 5, test val_loss: 0.516070\n",
      "epoch: 5, train loss: 6.2478, lr: 0.000100, spent: 2.0 secs\n",
      "epoch: 6, test val_loss: 0.507459\n",
      "epoch: 6, train loss: 6.0604, lr: 0.000100, spent: 2.4 secs\n",
      "epoch: 7, test val_loss: 0.490036\n",
      "epoch: 7, train loss: 5.9540, lr: 0.000100, spent: 2.7 secs\n",
      "epoch: 8, test val_loss: 0.530114\n",
      "EarlyStopping counter: 1 out of 5\n",
      "epoch: 8, train loss: 5.7602, lr: 0.000100, spent: 3.0 secs\n",
      "epoch: 9, test val_loss: 0.479588\n",
      "epoch: 9, train loss: 5.6614, lr: 0.000100, spent: 3.3 secs\n",
      "epoch: 10, test val_loss: 0.476043\n",
      "epoch: 10, train loss: 5.5590, lr: 0.000100, spent: 3.7 secs\n",
      "epoch: 11, test val_loss: 0.503946\n",
      "EarlyStopping counter: 1 out of 5\n",
      "epoch: 11, train loss: 5.5467, lr: 0.000100, spent: 4.0 secs\n",
      "epoch: 12, test val_loss: 0.474475\n",
      "epoch: 12, train loss: 5.5485, lr: 0.000100, spent: 4.3 secs\n",
      "epoch: 13, test val_loss: 0.447895\n",
      "epoch: 13, train loss: 5.3856, lr: 0.000100, spent: 4.6 secs\n",
      "epoch: 14, test val_loss: 0.438116\n",
      "epoch: 14, train loss: 5.2644, lr: 0.000100, spent: 5.0 secs\n",
      "epoch: 15, test val_loss: 0.440906\n",
      "EarlyStopping counter: 1 out of 5\n",
      "epoch: 15, train loss: 5.2376, lr: 0.000100, spent: 5.3 secs\n",
      "epoch: 16, test val_loss: 0.477243\n",
      "EarlyStopping counter: 2 out of 5\n",
      "epoch: 16, train loss: 5.1332, lr: 0.000100, spent: 5.6 secs\n",
      "epoch: 17, test val_loss: 0.580398\n",
      "EarlyStopping counter: 3 out of 5\n",
      "epoch: 17, train loss: 5.1469, lr: 0.000100, spent: 5.9 secs\n",
      "epoch: 18, test val_loss: 0.481811\n",
      "EarlyStopping counter: 4 out of 5\n",
      "epoch: 18, train loss: 5.2367, lr: 0.000100, spent: 6.2 secs\n"
     ]
    },
    {
     "name": "stderr",
     "output_type": "stream",
     "text": [
      "2022-05-11 12:19:14.903 | INFO     | transtab.trainer:train:131 - load best at last from ./checkpoint\n",
      "2022-05-11 12:19:14.910 | INFO     | transtab.trainer:save_model:238 - saving model checkpoint to ./checkpoint\n",
      "2022-05-11 12:19:15.009 | INFO     | transtab.trainer:train:136 - training complete, cost 6.6 secs.\n"
     ]
    },
    {
     "name": "stdout",
     "output_type": "stream",
     "text": [
      "epoch: 19, test val_loss: 0.441825\n",
      "EarlyStopping counter: 5 out of 5\n",
      "early stopped\n"
     ]
    }
   ],
   "source": [
    "# load a dataset and start vanilla supervised training\n",
    "allset, trainset, valset, testset, cat_cols, num_cols, bin_cols \\\n",
    "    = transtab.load_data('credit-g')\n",
    "\n",
    "# build transtab classifier model\n",
    "model = transtab.build_classifier(cat_cols, num_cols, bin_cols)\n",
    "\n",
    "# start training\n",
    "training_arguments = {\n",
    "    'num_epoch':50,\n",
    "    'eval_metric':'val_loss',\n",
    "    'eval_less_is_better':True,\n",
    "    'output_dir':'./checkpoint'\n",
    "    }\n",
    "transtab.train(model, trainset, valset, **training_arguments)"
   ]
  },
  {
   "cell_type": "code",
   "execution_count": 3,
   "id": "d6bdc971",
   "metadata": {},
   "outputs": [
    {
     "name": "stdout",
     "output_type": "stream",
     "text": [
      "########################################\n"
     ]
    },
    {
     "name": "stderr",
     "output_type": "stream",
     "text": [
      "2022-05-11 12:19:20.243 | INFO     | transtab.modeling_transtab:load:623 - missing keys: []\n",
      "2022-05-11 12:19:20.243 | INFO     | transtab.modeling_transtab:load:624 - unexpected keys: []\n",
      "2022-05-11 12:19:20.244 | INFO     | transtab.modeling_transtab:load:625 - load model from ./checkpoint\n",
      "2022-05-11 12:19:20.257 | INFO     | transtab.modeling_transtab:load:217 - load feature extractor from ./checkpoint/extractor/extractor.json\n",
      "2022-05-11 12:19:20.258 | INFO     | transtab.modeling_transtab:update:654 - Build a new classifier with num 2 classes outputs, need further finetune to work.\n"
     ]
    },
    {
     "name": "stdout",
     "output_type": "stream",
     "text": [
      "openml data index: 29\n",
      "load data from credit-approval\n",
      "# data: 690, # feat: 15, # cate: 9,  # bin: 0, # numerical: 6, pos rate: 0.56\n"
     ]
    }
   ],
   "source": [
    "# now let's load another data and try to leverage the pretrained model for finetuning\n",
    "allset, trainset, valset, testset, cat_cols, num_cols, bin_cols \\\n",
    "     = transtab.load_data('credit-approval')\n",
    "\n",
    "# load the pretrained model\n",
    "model.load('./checkpoint')\n",
    "\n",
    "# update model's categorical/numerical/binary column dict\n",
    "# need to specify the number of classes if the new dataset has different # of classes from the \n",
    "# pretrained one.\n",
    "model.update({'cat':cat_cols,'num':num_cols,'bin':bin_cols, 'num_class':2})"
   ]
  },
  {
   "cell_type": "code",
   "execution_count": 4,
   "id": "f399d02e",
   "metadata": {},
   "outputs": [
    {
     "data": {
      "application/vnd.jupyter.widget-view+json": {
       "model_id": "7f2f94bf84fa4e67ad965cbdd150a01a",
       "version_major": 2,
       "version_minor": 0
      },
      "text/plain": [
       "Epoch:   0%|          | 0/50 [00:00<?, ?it/s]"
      ]
     },
     "metadata": {},
     "output_type": "display_data"
    },
    {
     "name": "stdout",
     "output_type": "stream",
     "text": [
      "epoch: 0, test val_loss: 0.650370\n",
      "epoch: 0, train loss: 5.4737, lr: 0.000100, spent: 0.2 secs\n",
      "epoch: 1, test val_loss: 0.615437\n",
      "epoch: 1, train loss: 5.0701, lr: 0.000100, spent: 0.5 secs\n",
      "epoch: 2, test val_loss: 0.570717\n",
      "epoch: 2, train loss: 4.7679, lr: 0.000100, spent: 0.7 secs\n",
      "epoch: 3, test val_loss: 0.530728\n",
      "epoch: 3, train loss: 4.5476, lr: 0.000100, spent: 0.9 secs\n",
      "epoch: 4, test val_loss: 0.493068\n",
      "epoch: 4, train loss: 4.3154, lr: 0.000100, spent: 1.1 secs\n",
      "epoch: 5, test val_loss: 0.478034\n",
      "epoch: 5, train loss: 4.0738, lr: 0.000100, spent: 1.4 secs\n",
      "epoch: 6, test val_loss: 0.456793\n",
      "epoch: 6, train loss: 3.7741, lr: 0.000100, spent: 1.6 secs\n",
      "epoch: 7, test val_loss: 0.451133\n",
      "epoch: 7, train loss: 3.5969, lr: 0.000100, spent: 1.8 secs\n",
      "epoch: 8, test val_loss: 0.451834\n",
      "EarlyStopping counter: 1 out of 5\n",
      "epoch: 8, train loss: 3.3702, lr: 0.000100, spent: 2.0 secs\n",
      "epoch: 9, test val_loss: 0.435122\n",
      "epoch: 9, train loss: 3.3110, lr: 0.000100, spent: 2.3 secs\n",
      "epoch: 10, test val_loss: 0.447266\n",
      "EarlyStopping counter: 1 out of 5\n",
      "epoch: 10, train loss: 3.0666, lr: 0.000100, spent: 2.5 secs\n",
      "epoch: 11, test val_loss: 0.434447\n",
      "epoch: 11, train loss: 3.0705, lr: 0.000100, spent: 2.7 secs\n",
      "epoch: 12, test val_loss: 0.493989\n",
      "EarlyStopping counter: 1 out of 5\n",
      "epoch: 12, train loss: 2.8927, lr: 0.000100, spent: 2.9 secs\n",
      "epoch: 13, test val_loss: 0.439760\n",
      "EarlyStopping counter: 2 out of 5\n",
      "epoch: 13, train loss: 2.9198, lr: 0.000100, spent: 3.1 secs\n",
      "epoch: 14, test val_loss: 0.433188\n",
      "epoch: 14, train loss: 2.8245, lr: 0.000100, spent: 3.4 secs\n",
      "epoch: 15, test val_loss: 0.441997\n",
      "EarlyStopping counter: 1 out of 5\n",
      "epoch: 15, train loss: 2.7513, lr: 0.000100, spent: 3.6 secs\n",
      "epoch: 16, test val_loss: 0.533218\n",
      "EarlyStopping counter: 2 out of 5\n",
      "epoch: 16, train loss: 2.8152, lr: 0.000100, spent: 3.8 secs\n",
      "epoch: 17, test val_loss: 0.434771\n",
      "EarlyStopping counter: 3 out of 5\n",
      "epoch: 17, train loss: 2.7639, lr: 0.000100, spent: 4.0 secs\n",
      "epoch: 18, test val_loss: 0.444286\n",
      "EarlyStopping counter: 4 out of 5\n",
      "epoch: 18, train loss: 2.5952, lr: 0.000100, spent: 4.2 secs\n"
     ]
    },
    {
     "name": "stderr",
     "output_type": "stream",
     "text": [
      "2022-05-11 12:19:24.725 | INFO     | transtab.trainer:train:131 - load best at last from ./checkpoint\n",
      "2022-05-11 12:19:24.732 | INFO     | transtab.trainer:save_model:238 - saving model checkpoint to ./checkpoint\n",
      "2022-05-11 12:19:24.829 | INFO     | transtab.trainer:train:136 - training complete, cost 4.6 secs.\n"
     ]
    },
    {
     "name": "stdout",
     "output_type": "stream",
     "text": [
      "epoch: 19, test val_loss: 0.456743\n",
      "EarlyStopping counter: 5 out of 5\n",
      "early stopped\n"
     ]
    }
   ],
   "source": [
    "# start training\n",
    "training_arguments = {\n",
    "    'num_epoch':50,\n",
    "    'eval_metric':'val_loss',\n",
    "    'eval_less_is_better':True,\n",
    "    'output_dir':'./checkpoint'\n",
    "    }\n",
    "transtab.train(model, trainset, valset, **training_arguments)"
   ]
  },
  {
   "cell_type": "code",
   "execution_count": 5,
   "id": "3aa87021",
   "metadata": {},
   "outputs": [
    {
     "name": "stdout",
     "output_type": "stream",
     "text": [
      "auc 0.95 mean/interval 0.8379(0.06)\n"
     ]
    },
    {
     "data": {
      "text/plain": [
       "[0.8378617737787584]"
      ]
     },
     "execution_count": 5,
     "metadata": {},
     "output_type": "execute_result"
    }
   ],
   "source": [
    "# evaluation\n",
    "x_test, y_test = testset\n",
    "ypred = transtab.predict(model, x_test)\n",
    "transtab.evaluate(ypred, y_test, metric='auc')"
   ]
  }
 ],
 "metadata": {
  "kernelspec": {
   "display_name": "Python 3 (ipykernel)",
   "language": "python",
   "name": "python3"
  },
  "language_info": {
   "codemirror_mode": {
    "name": "ipython",
    "version": 3
   },
   "file_extension": ".py",
   "mimetype": "text/x-python",
   "name": "python",
   "nbconvert_exporter": "python",
   "pygments_lexer": "ipython3",
   "version": "3.8.12"
  }
 },
 "nbformat": 4,
 "nbformat_minor": 5
}
