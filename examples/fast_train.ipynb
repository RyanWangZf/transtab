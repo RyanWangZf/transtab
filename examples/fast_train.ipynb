{
 "cells": [
  {
   "cell_type": "code",
   "execution_count": 1,
   "id": "0bc8ef17",
   "metadata": {},
   "outputs": [],
   "source": [
    "import transtab\n",
    "\n",
    "# set random seed\n",
    "transtab.random_seed(42)"
   ]
  },
  {
   "cell_type": "code",
   "execution_count": 2,
   "id": "e06b2eb3",
   "metadata": {},
   "outputs": [
    {
     "name": "stdout",
     "output_type": "stream",
     "text": [
      "########################################\n",
      "openml data index: 31\n",
      "load data from credit-g\n",
      "# data: 1000, # feat: 20, # cate: 11,  # bin: 2, # numerical: 7, pos rate: 0.70\n",
      "########################################\n",
      "openml data index: 29\n",
      "load data from credit-approval\n",
      "# data: 690, # feat: 15, # cate: 9,  # bin: 0, # numerical: 6, pos rate: 0.56\n"
     ]
    }
   ],
   "source": [
    "# load multiple datasets by passing a list of data names\n",
    "allset, trainset, valset, testset, cat_cols, num_cols, bin_cols \\\n",
    "    = transtab.load_data(['credit-g','credit-approval'])\n",
    "\n",
    "# build transtab classifier model\n",
    "model = transtab.build_classifier(cat_cols, num_cols, bin_cols)\n",
    "\n",
    "# specify training arguments, take validation loss for early stopping\n",
    "training_arguments = {\n",
    "    'num_epoch':50,\n",
    "    'batch_size':64,\n",
    "    'lr':1e-4,\n",
    "    'eval_metric':'val_loss',\n",
    "    'eval_less_is_better':True,\n",
    "    'output_dir':'./checkpoint'\n",
    "    }"
   ]
  },
  {
   "cell_type": "code",
   "execution_count": 3,
   "id": "af2eed94",
   "metadata": {},
   "outputs": [
    {
     "data": {
      "application/vnd.jupyter.widget-view+json": {
       "model_id": "cd8db654228447428cec247ca3336c23",
       "version_major": 2,
       "version_minor": 0
      },
      "text/plain": [
       "Epoch:   0%|          | 0/50 [00:00<?, ?it/s]"
      ]
     },
     "metadata": {},
     "output_type": "display_data"
    },
    {
     "name": "stdout",
     "output_type": "stream",
     "text": [
      "epoch: 0, test val_loss: 0.621819\n",
      "epoch: 0, train loss: 12.1607, lr: 0.000100, spent: 0.5 secs\n",
      "epoch: 1, test val_loss: 0.551811\n",
      "epoch: 1, train loss: 11.4653, lr: 0.000100, spent: 1.0 secs\n",
      "epoch: 2, test val_loss: 0.510931\n",
      "epoch: 2, train loss: 10.6776, lr: 0.000100, spent: 1.6 secs\n",
      "epoch: 3, test val_loss: 0.510665\n",
      "epoch: 3, train loss: 10.3554, lr: 0.000100, spent: 2.0 secs\n",
      "epoch: 4, test val_loss: 0.497121\n",
      "epoch: 4, train loss: 10.0736, lr: 0.000100, spent: 2.5 secs\n",
      "epoch: 5, test val_loss: 0.497107\n",
      "epoch: 5, train loss: 10.1921, lr: 0.000100, spent: 3.1 secs\n",
      "epoch: 6, test val_loss: 0.485108\n",
      "epoch: 6, train loss: 9.9827, lr: 0.000100, spent: 3.6 secs\n",
      "epoch: 7, test val_loss: 0.458908\n",
      "epoch: 7, train loss: 9.8365, lr: 0.000100, spent: 4.1 secs\n",
      "epoch: 8, test val_loss: 0.514767\n",
      "EarlyStopping counter: 1 out of 5\n",
      "epoch: 8, train loss: 10.1349, lr: 0.000100, spent: 4.6 secs\n",
      "epoch: 9, test val_loss: 0.464927\n",
      "EarlyStopping counter: 2 out of 5\n",
      "epoch: 9, train loss: 9.9935, lr: 0.000100, spent: 5.1 secs\n",
      "epoch: 10, test val_loss: 0.469673\n",
      "EarlyStopping counter: 3 out of 5\n",
      "epoch: 10, train loss: 10.5440, lr: 0.000100, spent: 5.5 secs\n",
      "epoch: 11, test val_loss: 0.445339\n",
      "epoch: 11, train loss: 10.5465, lr: 0.000100, spent: 6.1 secs\n",
      "epoch: 12, test val_loss: 0.447294\n",
      "EarlyStopping counter: 1 out of 5\n",
      "epoch: 12, train loss: 10.0967, lr: 0.000100, spent: 6.5 secs\n",
      "epoch: 13, test val_loss: 0.547125\n",
      "EarlyStopping counter: 2 out of 5\n",
      "epoch: 13, train loss: 9.6590, lr: 0.000100, spent: 7.0 secs\n",
      "epoch: 14, test val_loss: 0.511096\n",
      "EarlyStopping counter: 3 out of 5\n",
      "epoch: 14, train loss: 9.6517, lr: 0.000100, spent: 7.5 secs\n",
      "epoch: 15, test val_loss: 0.443213\n",
      "epoch: 15, train loss: 9.3429, lr: 0.000100, spent: 8.0 secs\n",
      "epoch: 16, test val_loss: 0.437210\n",
      "epoch: 16, train loss: 9.0554, lr: 0.000100, spent: 8.5 secs\n",
      "epoch: 17, test val_loss: 0.584277\n",
      "EarlyStopping counter: 1 out of 5\n",
      "epoch: 17, train loss: 8.9704, lr: 0.000100, spent: 9.0 secs\n",
      "epoch: 18, test val_loss: 0.508869\n",
      "EarlyStopping counter: 2 out of 5\n",
      "epoch: 18, train loss: 9.4329, lr: 0.000100, spent: 9.5 secs\n",
      "epoch: 19, test val_loss: 0.442421\n",
      "EarlyStopping counter: 3 out of 5\n",
      "epoch: 19, train loss: 9.1592, lr: 0.000100, spent: 10.0 secs\n",
      "epoch: 20, test val_loss: 0.435319\n",
      "epoch: 20, train loss: 8.8259, lr: 0.000100, spent: 10.5 secs\n",
      "epoch: 21, test val_loss: 0.478118\n",
      "EarlyStopping counter: 1 out of 5\n",
      "epoch: 21, train loss: 8.6419, lr: 0.000100, spent: 11.0 secs\n",
      "epoch: 22, test val_loss: 0.497285\n",
      "EarlyStopping counter: 2 out of 5\n",
      "epoch: 22, train loss: 8.8168, lr: 0.000100, spent: 11.4 secs\n",
      "epoch: 23, test val_loss: 0.445596\n",
      "EarlyStopping counter: 3 out of 5\n",
      "epoch: 23, train loss: 8.8114, lr: 0.000100, spent: 11.9 secs\n",
      "epoch: 24, test val_loss: 0.443163\n",
      "EarlyStopping counter: 4 out of 5\n",
      "epoch: 24, train loss: 8.6719, lr: 0.000100, spent: 12.4 secs\n",
      "epoch: 25, test val_loss: 0.421341\n",
      "epoch: 25, train loss: 8.4668, lr: 0.000100, spent: 12.9 secs\n",
      "epoch: 26, test val_loss: 0.419643\n",
      "epoch: 26, train loss: 8.4533, lr: 0.000100, spent: 13.4 secs\n",
      "epoch: 27, test val_loss: 0.447384\n",
      "EarlyStopping counter: 1 out of 5\n",
      "epoch: 27, train loss: 8.5265, lr: 0.000100, spent: 13.9 secs\n",
      "epoch: 28, test val_loss: 0.431758\n",
      "EarlyStopping counter: 2 out of 5\n",
      "epoch: 28, train loss: 9.0769, lr: 0.000100, spent: 14.4 secs\n",
      "epoch: 29, test val_loss: 0.459286\n",
      "EarlyStopping counter: 3 out of 5\n",
      "epoch: 29, train loss: 8.6831, lr: 0.000100, spent: 14.9 secs\n",
      "epoch: 30, test val_loss: 0.492224\n",
      "EarlyStopping counter: 4 out of 5\n",
      "epoch: 30, train loss: 8.5674, lr: 0.000100, spent: 15.4 secs\n"
     ]
    },
    {
     "name": "stderr",
     "output_type": "stream",
     "text": [
      "2022-05-11 11:38:50.533 | INFO     | transtab.trainer:train:131 - load best at last from ./checkpoint\n",
      "2022-05-11 11:38:50.541 | INFO     | transtab.trainer:save_model:238 - saving model checkpoint to ./checkpoint\n",
      "2022-05-11 11:38:50.640 | INFO     | transtab.trainer:train:136 - training complete, cost 16.0 secs.\n"
     ]
    },
    {
     "name": "stdout",
     "output_type": "stream",
     "text": [
      "epoch: 31, test val_loss: 0.425584\n",
      "EarlyStopping counter: 5 out of 5\n",
      "early stopped\n"
     ]
    }
   ],
   "source": [
    "# start training, take the validation loss on average for evaluation\n",
    "transtab.train(model, trainset, valset, **training_arguments)"
   ]
  },
  {
   "cell_type": "code",
   "execution_count": 4,
   "id": "9b65a489",
   "metadata": {},
   "outputs": [],
   "source": [
    "# make predictions on the first dataset 'credit-g'\n",
    "x_test, y_test = testset[0]\n",
    "ypred = transtab.predict(model, x_test)"
   ]
  },
  {
   "cell_type": "code",
   "execution_count": 5,
   "id": "6eefaa05",
   "metadata": {},
   "outputs": [
    {
     "name": "stdout",
     "output_type": "stream",
     "text": [
      "auc 0.95 mean/interval 0.7376(0.06)\n"
     ]
    },
    {
     "data": {
      "text/plain": [
       "[0.737639164086137]"
      ]
     },
     "execution_count": 5,
     "metadata": {},
     "output_type": "execute_result"
    }
   ],
   "source": [
    "# evaluate the predictions with bootstrapping estimate\n",
    "transtab.evaluate(ypred, y_test, seed=123, metric='auc')"
   ]
  },
  {
   "cell_type": "code",
   "execution_count": null,
   "id": "34d19852",
   "metadata": {},
   "outputs": [],
   "source": []
  }
 ],
 "metadata": {
  "kernelspec": {
   "display_name": "Python 3 (ipykernel)",
   "language": "python",
   "name": "python3"
  },
  "language_info": {
   "codemirror_mode": {
    "name": "ipython",
    "version": 3
   },
   "file_extension": ".py",
   "mimetype": "text/x-python",
   "name": "python",
   "nbconvert_exporter": "python",
   "pygments_lexer": "ipython3",
   "version": "3.8.12"
  }
 },
 "nbformat": 4,
 "nbformat_minor": 5
}
